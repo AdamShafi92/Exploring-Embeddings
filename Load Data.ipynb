{
 "cells": [
  {
   "cell_type": "code",
   "execution_count": 1,
   "metadata": {},
   "outputs": [],
   "source": [
    "import pandas as pd\n",
    "import os\n",
    "import glob\n",
    "from sklearn.model_selection import train_test_split"
   ]
  },
  {
   "cell_type": "code",
   "execution_count": 2,
   "metadata": {},
   "outputs": [],
   "source": [
    "train = pd.read_csv('./data/train.csv')\n",
    "#test = pd.read_csv('./data/test.csv')  # this test set has no labels"
   ]
  },
  {
   "cell_type": "code",
   "execution_count": 4,
   "metadata": {},
   "outputs": [],
   "source": [
    "#remove blank tweets\n",
    "train = train.dropna(subset=['text'])\n",
    "\n",
    "\n",
    "\n",
    "#clean up ampersands\n",
    "train['text'] = train['text'].str.replace('&amp;', 'and', case=False)\n",
    "\n",
    "train['text'] = train['text'].str.replace('UTC]?', 'UTC] ', case=False)\n",
    "\n",
    "#urls\n",
    "train['text'] = train['text'].replace(r'http\\S+', '[URL]', regex=True).replace(r'www\\S+', '[URL]', regex=True)\n",
    "\n",
    "#remove @name\n",
    "train['text'] = train['text'].replace('@[^\\s]+', '[AT_USER]', regex=True)\n",
    "\n",
    "train.drop_duplicates(subset='text')\n",
    "train.reset_index(drop=True, inplace=True)\n",
    "\n",
    "#remove very short tweets\n",
    "train = train.loc[train['text'].apply(len)>10]"
   ]
  },
  {
   "cell_type": "code",
   "execution_count": 5,
   "metadata": {},
   "outputs": [],
   "source": [
    "X = train[['text']]\n",
    "y = train['target']"
   ]
  },
  {
   "cell_type": "code",
   "execution_count": 10,
   "metadata": {},
   "outputs": [],
   "source": [
    "X_train, X_test, y_train, y_test = train_test_split(X,y,test_size=0.2)"
   ]
  },
  {
   "cell_type": "code",
   "execution_count": 11,
   "metadata": {},
   "outputs": [],
   "source": [
    "X_train = X_train.reset_index(drop=True)\n",
    "X_test = X_test.reset_index(drop=True)\n",
    "y_train = y_train.reset_index(drop=True)\n",
    "y_test = y_test.reset_index(drop=True)"
   ]
  },
  {
   "cell_type": "code",
   "execution_count": 12,
   "metadata": {},
   "outputs": [],
   "source": [
    "X_train.to_pickle('./pickled_data/X_train.pkl')\n",
    "X_test.to_pickle('./pickled_data/X_test.pkl')\n",
    "y_train.to_pickle('./pickled_data/y_train.pkl')\n",
    "y_test.to_pickle('./pickled_data/y_test.pkl')"
   ]
  },
  {
   "cell_type": "code",
   "execution_count": null,
   "metadata": {},
   "outputs": [],
   "source": []
  }
 ],
 "metadata": {
  "kernelspec": {
   "display_name": "Python 3",
   "language": "python",
   "name": "python3"
  },
  "language_info": {
   "codemirror_mode": {
    "name": "ipython",
    "version": 3
   },
   "file_extension": ".py",
   "mimetype": "text/x-python",
   "name": "python",
   "nbconvert_exporter": "python",
   "pygments_lexer": "ipython3",
   "version": "3.8.5"
  }
 },
 "nbformat": 4,
 "nbformat_minor": 4
}
